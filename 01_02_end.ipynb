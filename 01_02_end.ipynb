{
  "nbformat": 4,
  "nbformat_minor": 0,
  "metadata": {
    "colab": {
      "name": "01_02_end.ipynb",
      "provenance": [],
      "authorship_tag": "ABX9TyOtF4tbqykdjAH8CLTEjGRA",
      "include_colab_link": true
    },
    "kernelspec": {
      "name": "python3",
      "display_name": "Python 3"
    }
  },
  "cells": [
    {
      "cell_type": "markdown",
      "metadata": {
        "id": "view-in-github",
        "colab_type": "text"
      },
      "source": [
        "<a href=\"https://colab.research.google.com/github/dswh/lil_nlp_with_tensorflow/blob/main/01_02_end.ipynb\" target=\"_parent\"><img src=\"https://colab.research.google.com/assets/colab-badge.svg\" alt=\"Open In Colab\"/></a>"
      ]
    },
    {
      "cell_type": "markdown",
      "metadata": {
        "id": "su3bfBDiRK9L"
      },
      "source": [
        "# Word Encodings\n",
        "\n",
        "The notebooks explains the implementation of word encodings in NLP using the tensorflow library."
      ]
    },
    {
      "cell_type": "code",
      "metadata": {
        "id": "dVGySTYgyVgW"
      },
      "source": [
        "## import the tensorflow APIs\n",
        "import tensorflow as tf\n",
        "from tensorflow import keras\n",
        "from tensorflow.keras.preprocessing.text import Tokenizer"
      ],
      "execution_count": 3,
      "outputs": []
    },
    {
      "cell_type": "code",
      "metadata": {
        "id": "oC-bEci9Q-EI"
      },
      "source": [
        "##sentences to tokenize\n",
        "sentences = [\n",
        "             'It is a sunny day',\n",
        "             'It is a cloudy day',\n",
        "\n",
        "]"
      ],
      "execution_count": 6,
      "outputs": []
    },
    {
      "cell_type": "code",
      "metadata": {
        "colab": {
          "base_uri": "https://localhost:8080/"
        },
        "id": "GbEn11WiT5Sp",
        "outputId": "db332c87-f01a-43d7-8de5-1f0c0cbbe7ce"
      },
      "source": [
        "##instantiate the tokenizer\n",
        "tokenizer = Tokenizer(num_words=100)\n",
        "\n",
        "##train the tokenizer on training sentences\n",
        "tokenizer.fit_on_texts(train_sentences)\n",
        "\n",
        "##store word index for the words in the sentence\n",
        "word_index = tokenizer.word_index\n"
      ],
      "execution_count": 7,
      "outputs": [
        {
          "output_type": "stream",
          "text": [
            "{'it': 1, 'is': 2, 'a': 3, 'day': 4, 'sunny': 5, 'cloudy': 6}\n"
          ],
          "name": "stdout"
        }
      ]
    },
    {
      "cell_type": "code",
      "metadata": {
        "id": "0zZR31LAUM4p"
      },
      "source": [
        "print(word_index)"
      ],
      "execution_count": null,
      "outputs": []
    }
  ]
}