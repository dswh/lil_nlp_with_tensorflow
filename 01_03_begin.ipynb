{
  "nbformat": 4,
  "nbformat_minor": 0,
  "metadata": {
    "colab": {
      "name": "01_03_begin.ipynb",
      "provenance": [],
      "authorship_tag": "ABX9TyO8sfeINo4Cyvd7VLALKHkt",
      "include_colab_link": true
    },
    "kernelspec": {
      "name": "python3",
      "display_name": "Python 3"
    }
  },
  "cells": [
    {
      "cell_type": "markdown",
      "metadata": {
        "id": "view-in-github",
        "colab_type": "text"
      },
      "source": [
        "<a href=\"https://colab.research.google.com/github/dswh/lil_nlp_with_tensorflow/blob/main/01_03_begin.ipynb\" target=\"_parent\"><img src=\"https://colab.research.google.com/assets/colab-badge.svg\" alt=\"Open In Colab\"/></a>"
      ]
    },
    {
      "cell_type": "markdown",
      "metadata": {
        "id": "x2_YdwCOp7Ky"
      },
      "source": [
        "# Tokenization of words using TensorFlow\n",
        "\n",
        "The notebook covers the creation of sequences of tokens from words in a sentence."
      ]
    },
    {
      "cell_type": "code",
      "metadata": {
        "id": "xeg4sf3Ap2j2"
      },
      "source": [
        "from tensorflow.keras.preprocessing.text import Tokenizer"
      ],
      "execution_count": 20,
      "outputs": []
    },
    {
      "cell_type": "code",
      "metadata": {
        "id": "o9vIbV6tqPsB"
      },
      "source": [
        "##define list of sentences to tokenize\n",
        "train_sentences = [\n",
        "             'It is a sunny day',\n",
        "             'It is a cloudy day',\n",
        "             'It is a super hot day!',\n",
        "             'Will it rain today?'\n",
        "\n",
        "]"
      ],
      "execution_count": 21,
      "outputs": []
    },
    {
      "cell_type": "code",
      "metadata": {
        "id": "VptkQzDAqkgB"
      },
      "source": [
        "##set up the tokenizer\n",
        "tokenizer = Tokenizer(num_words=100)\n",
        "\n",
        "##train the tokenizer on training sentences\n",
        "tokenizer.fit_on_texts(train_sentences)\n",
        "\n",
        "##store word index for the words in the sentence\n",
        "word_index = tokenizer.word_index"
      ],
      "execution_count": 22,
      "outputs": []
    },
    {
      "cell_type": "code",
      "metadata": {
        "id": "0lcfheKeq2ak"
      },
      "source": [
        "##create sequences using tokenizer\n",
        "sequences = tokenizer.texts_to_sequences(sentences)\n"
      ],
      "execution_count": 23,
      "outputs": []
    },
    {
      "cell_type": "code",
      "metadata": {
        "colab": {
          "base_uri": "https://localhost:8080/"
        },
        "id": "CSmb-p0mrOqW",
        "outputId": "db1ca369-a6f9-4005-d18e-972550324966"
      },
      "source": [
        "print(f\"Word index -->{word_index}\")\n",
        "print(f\"Sequences of words -->{sequences}\")"
      ],
      "execution_count": 24,
      "outputs": [
        {
          "output_type": "stream",
          "text": [
            "Word index -->{'it': 1, 'is': 2, 'a': 3, 'day': 4, 'sunny': 5, 'cloudy': 6, 'super': 7, 'hot': 8, 'will': 9, 'rain': 10, 'today': 11}\n",
            "Sequences of words -->[[1, 2, 3, 5, 4], [1, 2, 3, 6, 4], [1, 2, 3, 7, 8, 4], [9, 1, 10, 11]]\n"
          ],
          "name": "stdout"
        }
      ]
    },
    {
      "cell_type": "code",
      "metadata": {
        "colab": {
          "base_uri": "https://localhost:8080/"
        },
        "id": "YGY_CHTjrSra",
        "outputId": "a853bdc7-1b64-41f4-d929-9bd568ee84f1"
      },
      "source": [
        "print(sentences[0])\n",
        "print(sequences[0])"
      ],
      "execution_count": 25,
      "outputs": [
        {
          "output_type": "stream",
          "text": [
            "It is a sunny day\n",
            "[1, 2, 3, 5, 4]\n"
          ],
          "name": "stdout"
        }
      ]
    },
    {
      "cell_type": "markdown",
      "metadata": {
        "id": "QojDIf_aseIE"
      },
      "source": [
        "## Tokenizing new data using the same tokenizer"
      ]
    },
    {
      "cell_type": "code",
      "metadata": {
        "id": "QnFZFUlXsbag"
      },
      "source": [
        "new_sentences = [\n",
        "                 'Will it be raining today?',\n",
        "                 'It is a pleasant day.'\n",
        "]"
      ],
      "execution_count": 26,
      "outputs": []
    },
    {
      "cell_type": "code",
      "metadata": {
        "id": "VzWszj9BuDoY"
      },
      "source": [
        "new_sequences = tokenizer.texts_to_sequences(new_sentences)"
      ],
      "execution_count": 27,
      "outputs": []
    },
    {
      "cell_type": "code",
      "metadata": {
        "colab": {
          "base_uri": "https://localhost:8080/"
        },
        "id": "Ss1XZ8ttuK-d",
        "outputId": "1b8452eb-1c59-4e06-fc3d-9fa3225a07f6"
      },
      "source": [
        "print(new_sentences)\n",
        "print(new_sequences)"
      ],
      "execution_count": 28,
      "outputs": [
        {
          "output_type": "stream",
          "text": [
            "['Will it be raining today?', 'It is a pleasant day.']\n",
            "[[9, 1, 11], [1, 2, 3, 4]]\n"
          ],
          "name": "stdout"
        }
      ]
    },
    {
      "cell_type": "markdown",
      "metadata": {
        "id": "uRaRs09MDvbv"
      },
      "source": [
        "## Replacing newly encountered words with special values"
      ]
    },
    {
      "cell_type": "code",
      "metadata": {
        "id": "1cD_c0zLuOAz"
      },
      "source": [
        "##set up the tokenizer again with oov_token\n",
        "tokenizer = Tokenizer(num_words=100, oov_token='<OOV>')\n",
        "\n",
        "##train the tokenizer on training sentences\n",
        "tokenizer.fit_on_texts(train_sentences)\n",
        "\n",
        "##store word index for the words in the sentence\n",
        "word_index = tokenizer.word_index"
      ],
      "execution_count": 29,
      "outputs": []
    },
    {
      "cell_type": "code",
      "metadata": {
        "colab": {
          "base_uri": "https://localhost:8080/"
        },
        "id": "kwS1YySvFe2P",
        "outputId": "59040831-a63e-49a7-d635-83b51a84d48d"
      },
      "source": [
        "new_sequences = tokenizer.texts_to_sequences(new_sentences)\n",
        "print(word_index)\n",
        "print(new_sequences)"
      ],
      "execution_count": 32,
      "outputs": [
        {
          "output_type": "stream",
          "text": [
            "{'<OOV>': 1, 'it': 2, 'is': 3, 'a': 4, 'day': 5, 'sunny': 6, 'cloudy': 7, 'super': 8, 'hot': 9, 'will': 10, 'rain': 11, 'today': 12}\n",
            "[[10, 2, 1, 1, 12], [2, 3, 4, 1, 5]]\n"
          ],
          "name": "stdout"
        }
      ]
    },
    {
      "cell_type": "code",
      "metadata": {
        "id": "EE_VPS0cFlx8"
      },
      "source": [
        ""
      ],
      "execution_count": null,
      "outputs": []
    }
  ]
}